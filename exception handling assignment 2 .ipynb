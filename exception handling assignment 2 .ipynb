{
 "cells": [
  {
   "cell_type": "code",
   "execution_count": null,
   "id": "1dc53bbc-2eb5-465a-9d4a-8d17e6e5dc27",
   "metadata": {},
   "outputs": [],
   "source": [
    "\"\"\"Q1. Explain why we have to use the Exception class while creating a Custom Exception.\n",
    "Note: Here Exception class refers to the base class for all the exceptions.\"\"\"\n",
    "#Here's an example of a custom exception:\n",
    "class CustomError(Exception):\n",
    "    def __init__(self, message):\n",
    "        super().__init__(message)\n",
    "        self.message = message\n",
    "\n",
    "try:\n",
    "    raise CustomError(\"This is a custom exception!\")\n",
    "except Exception as e:\n",
    "    print(f\"Caught an exception: {e}\")\n",
    "#What Happens if You Don’t Use Exception?\n",
    "class CustomErrorWithoutBase:\n",
    "    pass\n",
    "\n",
    "try:\n",
    "    raise CustomErrorWithoutBase()\n",
    "except Exception as e:\n",
    "    print(\"This won't catch the custom exception because it's not derived from Exception.\")\n"
   ]
  },
  {
   "cell_type": "code",
   "execution_count": null,
   "id": "5dc53517-085e-4ab2-85c6-f5acb0aa15f9",
   "metadata": {},
   "outputs": [],
   "source": [
    "#Q2. Write a python program to print Python Exception Hierarchy.\n",
    "# Function to print the exception hierarchy\n",
    "def print_exception_hierarchy(exception_class, indent=0):\n",
    "    print(\" \" * indent + exception_class.__name__)\n",
    "    for subclass in exception_class.__subclasses__():\n",
    "        print_exception_hierarchy(subclass, indent + 4)\n",
    "\n",
    "# Print the hierarchy starting from the base class\n",
    "print(\"Python Exception Hierarchy:\")\n",
    "print_exception_hierarchy(BaseException)\n"
   ]
  },
  {
   "cell_type": "code",
   "execution_count": null,
   "id": "07ee80a6-aab4-4165-a328-c3c6e69c9564",
   "metadata": {},
   "outputs": [],
   "source": [
    "#Q3. What errors are defined in the ArithmeticError class? Explain any two with an example.\n",
    "#FloatingPointError: Raised when a floating-point operation fails.\n",
    "#OverflowError: Raised when a numerical calculation exceeds the range of the number type.\n",
    "#ZeroDivisionError: Raised when attempting to divide by zero.\n",
    "import math\n",
    "\n",
    "try:\n",
    "    # Attempting to calculate an extremely large exponential value\n",
    "    result = math.exp(1000)  # Exponential function\n",
    "except OverflowError as e:\n",
    "    print(f\"OverflowError occurred: {e}\")\n"
   ]
  },
  {
   "cell_type": "code",
   "execution_count": null,
   "id": "447731dd-0cb9-407c-9bb8-6fc0e9833fc9",
   "metadata": {},
   "outputs": [],
   "source": [
    "#Q4. Why LookupError class is used? Explain with an example KeyError and IndexError.\n",
    "#KeyError\n",
    "#When it occurs: A KeyError is raised when attempting to access a key in a dictionary that does not exist.\n",
    "try:\n",
    "    my_dict = {\"a\": 1, \"b\": 2}\n",
    "    print(my_dict[\"c\"])  # Key 'c' does not exist\n",
    "except KeyError as e:\n",
    "    print(f\"KeyError occurred: {e}\")\n",
    "#IndexError\n",
    "#When it occurs: An IndexError is raised when attempting to access an index in a list (or similar sequence) that is out of range.\n",
    "#Example:\n",
    "try:\n",
    "    my_list = [1, 2, 3]\n",
    "    print(my_list[5])  # Index 5 is out of range\n",
    "except IndexError as e:\n",
    "    print(f\"IndexError occurred: {e}\")\n",
    "\n",
    "#Why Use LookupError?\n",
    "#The LookupError class provides a way to catch both KeyError and IndexError (or other future lookup-related exceptions) with a single block. For example:\n",
    "try:\n",
    "    my_dict = {\"a\": 1}\n",
    "    print(my_dict[\"c\"])  # KeyError\n",
    "    my_list = [1, 2, 3]\n",
    "    print(my_list[5])    # IndexError\n",
    "except LookupError as e:\n",
    "    print(f\"LookupError occurred: {e}\")\n",
    "\n",
    "\n"
   ]
  },
  {
   "cell_type": "code",
   "execution_count": null,
   "id": "659062a2-8075-400f-96bf-5f6f1edb0bb4",
   "metadata": {},
   "outputs": [],
   "source": [
    "#Q5. Explain ImportError. What is ModuleNotFoundError?\n",
    "\"\"ImportError\n",
    "\n",
    "try:\n",
    "    # Trying to import a module that doesn't exist\n",
    "    import non_existent_module\n",
    "except ImportError as e:\n",
    "    print(f\"ImportError occurred: {e}\")\n"
   ]
  },
  {
   "cell_type": "code",
   "execution_count": null,
   "id": "e1ecf74b-7fc5-498a-81c1-94111a5f1acc",
   "metadata": {},
   "outputs": [],
   "source": []
  },
  {
   "cell_type": "code",
   "execution_count": null,
   "id": "6d92351f-7333-42e1-a3cc-6add24aac144",
   "metadata": {},
   "outputs": [],
   "source": []
  }
 ],
 "metadata": {
  "kernelspec": {
   "display_name": "Python 3 (ipykernel)",
   "language": "python",
   "name": "python3"
  },
  "language_info": {
   "codemirror_mode": {
    "name": "ipython",
    "version": 3
   },
   "file_extension": ".py",
   "mimetype": "text/x-python",
   "name": "python",
   "nbconvert_exporter": "python",
   "pygments_lexer": "ipython3",
   "version": "3.12.4"
  }
 },
 "nbformat": 4,
 "nbformat_minor": 5
}
